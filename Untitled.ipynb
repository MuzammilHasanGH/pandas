{
 "cells": [
  {
   "cell_type": "code",
   "execution_count": null,
   "id": "49eb2d54-3465-4810-9ceb-b3fc9a8afb26",
   "metadata": {},
   "outputs": [],
   "source": []
  }
 ],
 "metadata": {
  "kernelspec": {
   "display_name": "",
   "name": ""
  },
  "language_info": {
   "name": ""
  }
 },
 "nbformat": 4,
 "nbformat_minor": 5
}
