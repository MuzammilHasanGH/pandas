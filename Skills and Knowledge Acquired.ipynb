{
 "cells": [
  {
   "cell_type": "markdown",
   "id": "ca6354af-83d3-45f9-ad61-61df34a40549",
   "metadata": {},
   "source": [
    "# Data Cleaning"
   ]
  },
  {
   "cell_type": "markdown",
   "id": "e772c715-e118-4157-9360-11df9b599abc",
   "metadata": {},
   "source": [
    "## Handling Missing Values"
   ]
  },
  {
   "cell_type": "code",
   "execution_count": 4,
   "id": "7edf7d16-bcb8-453b-b7bf-1fb8784c742f",
   "metadata": {},
   "outputs": [
    {
     "name": "stdout",
     "output_type": "stream",
     "text": [
      "      Name   Age\n",
      "0    Alice  25.0\n",
      "1      Bob   0.0\n",
      "2  Charlie  23.0\n",
      "3  Unknown  30.0\n"
     ]
    }
   ],
   "source": [
    "import pandas as pd\n",
    "data = {'Name':['Alice','Bob','Charlie', None], 'Age':[25, None, 23, 30]}\n",
    "df = pd.DataFrame(data)\n",
    "# df_filled = df.fillna('pypy')\n",
    "# this just fill all None as 'pypy'\n",
    "df_filled = df.fillna({'Name':'Unknown','Age':0})\n",
    "print(df_filled)"
   ]
  },
  {
   "cell_type": "markdown",
   "id": "e15128ca-d3bf-413d-b9e6-9b259a026097",
   "metadata": {},
   "source": [
    "## Removing Duplicates"
   ]
  },
  {
   "cell_type": "code",
   "execution_count": 14,
   "id": "f027fbd9-efa6-4b65-ba71-739ce34e52fa",
   "metadata": {},
   "outputs": [
    {
     "name": "stdout",
     "output_type": "stream",
     "text": [
      "    Name  Age\n",
      "0  Alice   25\n",
      "1    Bob   26\n"
     ]
    }
   ],
   "source": [
    "data = {'Name':['Alice','Bob','Alice'],'Age':[25, 26, 25]}\n",
    "df = pd.DataFrame(data)\n",
    "df_unique=df.drop_duplicates()\n",
    "print(df_unique)"
   ]
  },
  {
   "cell_type": "markdown",
   "id": "fe73e2f4-6170-44f7-8fc3-9490f368342d",
   "metadata": {},
   "source": [
    "# Converting Data Types"
   ]
  },
  {
   "cell_type": "code",
   "execution_count": 23,
   "id": "d091254e-f13d-4cd2-b1ed-436ba802821a",
   "metadata": {},
   "outputs": [
    {
     "name": "stdout",
     "output_type": "stream",
     "text": [
      "Name    object\n",
      "Age      int32\n",
      "dtype: object\n"
     ]
    }
   ],
   "source": [
    "data = {'Name': ['Alice', 'Bob'], 'Age': ['25', '26']} \n",
    "df = pd.DataFrame(data)\n",
    "df['Age'] = df['Age'].astype(int)\n",
    "# pd.DataFrame(data)['Age'].astype(int)\n",
    "# print(pd.DataFrame(data)['Age'].astype(int).dtypes)\n",
    "print(df.dtypes)"
   ]
  },
  {
   "cell_type": "markdown",
   "id": "18f4b42e-317d-45c8-ac95-9688fb85f2fe",
   "metadata": {},
   "source": [
    "# Data Transformation"
   ]
  },
  {
   "cell_type": "markdown",
   "id": "16c59291-49d4-4531-995b-b8f4add6c636",
   "metadata": {},
   "source": [
    "## Filtering and Sorting Data"
   ]
  },
  {
   "cell_type": "code",
   "execution_count": 27,
   "id": "05b93e90-bca2-402f-9eab-80eca5cdd6fa",
   "metadata": {},
   "outputs": [
    {
     "name": "stdout",
     "output_type": "stream",
     "text": [
      "    Name  Age\n",
      "0  Alice   25\n",
      "1    Bob   26\n",
      "      Name  Age\n",
      "2  Charlie   23\n",
      "0    Alice   25\n",
      "1      Bob   26\n"
     ]
    }
   ],
   "source": [
    "# Creating a sample DataFrame\n",
    "data = {'Name': ['Alice', 'Bob', 'Charlie'], 'Age': [25, 26, 23]}\n",
    "df = pd.DataFrame(data)\n",
    "\n",
    "# Filtering rows where Age is greater than 24\n",
    "filtered_df = df[df['Age'] > 24]\n",
    "\n",
    "# Sorting DataFrame by Age\n",
    "sorted_df = df.sort_values(by='Age')\n",
    "print(filtered_df)\n",
    "print(sorted_df)\n"
   ]
  },
  {
   "cell_type": "markdown",
   "id": "29fb4619-a204-4edf-a0fb-03f97d8e97fd",
   "metadata": {},
   "source": [
    "## Merging and Joining Datasets"
   ]
  },
  {
   "cell_type": "code",
   "execution_count": 32,
   "id": "43ab5373-d075-4e5c-80f2-084d833b9a8e",
   "metadata": {},
   "outputs": [
    {
     "name": "stdout",
     "output_type": "stream",
     "text": [
      "      Name  Age\n",
      "0    Alice   25\n",
      "1      Bob   26\n",
      "2  Charlie   23\n",
      "3    David   30\n"
     ]
    }
   ],
   "source": [
    "# Creating two DataFrames\n",
    "data1 = {'Name': ['Alice', 'Bob'], 'Age': [25, 26]}\n",
    "data2 = {'Name': ['Charlie', 'David'], 'Age': [23, 30]}\n",
    "df1 = pd.DataFrame(data1)\n",
    "df2 = pd.DataFrame(data2)\n",
    "\n",
    "# Concatenating DataFrames\n",
    "merged_df = pd.concat([df1, df2]).reset_index(drop=True)\n",
    "# .reset_index(drop=True) this will reset index from 0101 to 1-4\n",
    "print(merged_df)\n"
   ]
  },
  {
   "cell_type": "markdown",
   "id": "5f4dc356-678d-47ca-809a-4cfc1f654123",
   "metadata": {},
   "source": [
    "## Grouping and Aggregating Data :"
   ]
  },
  {
   "cell_type": "code",
   "execution_count": 35,
   "id": "fc7b10e1-ab6f-4d3a-ab69-0256ef7a2644",
   "metadata": {},
   "outputs": [
    {
     "name": "stdout",
     "output_type": "stream",
     "text": [
      "         Score\n",
      "Name          \n",
      "Alice     86.5\n",
      "Bob       90.0\n",
      "Charlie   78.0\n"
     ]
    }
   ],
   "source": [
    "# Creating a DataFrame\n",
    "data = {'Name': ['Alice', 'Bob', 'Charlie', 'Alice'], 'Score': [85, 90, 78, 88]}\n",
    "df = pd.DataFrame(data)\n",
    "\n",
    "# Grouping by 'Name' and calculating the mean Score\n",
    "grouped_df = df.groupby('Name').mean()\n",
    "print(grouped_df)\n"
   ]
  },
  {
   "cell_type": "markdown",
   "id": "55a967c9-1dc6-412a-8ae6-4c2d70eb5dc8",
   "metadata": {},
   "source": [
    "# Data Analysis"
   ]
  },
  {
   "cell_type": "markdown",
   "id": "10f1c738-aeb8-4ad4-8537-64c6ed2912d6",
   "metadata": {},
   "source": [
    "# Descriptive Statistics"
   ]
  },
  {
   "cell_type": "code",
   "execution_count": 6,
   "id": "f2aa77bd-68fb-4bf0-85f1-d404297644c6",
   "metadata": {},
   "outputs": [
    {
     "name": "stdout",
     "output_type": "stream",
     "text": [
      "            Age\n",
      "count   4.00000\n",
      "mean   26.00000\n",
      "std     2.94392\n",
      "min    23.00000\n",
      "25%    24.50000\n",
      "50%    25.50000\n",
      "75%    27.00000\n",
      "max    30.00000\n"
     ]
    }
   ],
   "source": [
    "# Creating a DataFrame\n",
    "data = {'Age': [25, 26, 23, 30]}\n",
    "df = pd.DataFrame(data)\n",
    "\n",
    "# Calculating descriptive statistics\n",
    "stats = df.describe()\n",
    "print(stats)\n"
   ]
  },
  {
   "cell_type": "markdown",
   "id": "e79b60b5-657e-4ebe-9c78-667d64c89678",
   "metadata": {},
   "source": [
    "## Correlation and Covariance"
   ]
  },
  {
   "cell_type": "code",
   "execution_count": 9,
   "id": "c1d1c35e-daa5-42d9-9488-6fd3c243e5bd",
   "metadata": {},
   "outputs": [
    {
     "name": "stdout",
     "output_type": "stream",
     "text": [
      "     A    B\n",
      "A  1.0 -1.0\n",
      "B -1.0  1.0\n",
      "          A         B\n",
      "A  1.666667 -1.666667\n",
      "B -1.666667  1.666667\n"
     ]
    }
   ],
   "source": [
    "# Creating a DataFrame\n",
    "data = {'A': [1, 2, 3, 4], 'B': [4, 3, 2, 1]}\n",
    "df = pd.DataFrame(data)\n",
    "\n",
    "# Calculating correlation\n",
    "correlation = df.corr()\n",
    "print(correlation)\n",
    "\n",
    "# Calculating covariance\n",
    "covariance = df.cov()\n",
    "print(covariance)"
   ]
  },
  {
   "cell_type": "markdown",
   "id": "69d473ca-5da6-4b36-930a-2adedbd94e20",
   "metadata": {},
   "source": [
    "## Time Series Analysis"
   ]
  },
  {
   "cell_type": "code",
   "execution_count": 12,
   "id": "9370307c-3b60-4da7-848b-c3748a803164",
   "metadata": {},
   "outputs": [
    {
     "name": "stdout",
     "output_type": "stream",
     "text": [
      "            Value\n",
      "2020-01-01    NaN\n",
      "2020-01-02   15.0\n",
      "2020-01-03   17.5\n",
      "2020-01-04   22.5\n"
     ]
    }
   ],
   "source": [
    "# Creating a time series DataFrame\n",
    "dates = pd.date_range(start='2020-01-01', periods=4, freq='D')\n",
    "data = {'Value': [10, 20, 15, 30]}\n",
    "df = pd.DataFrame(data, index=dates)\n",
    "\n",
    "# Calculating rolling mean\n",
    "rolling_mean = df.rolling(window=2).mean()\n",
    "print(rolling_mean)\n"
   ]
  }
 ],
 "metadata": {
  "kernelspec": {
   "display_name": "Python 3 (ipykernel)",
   "language": "python",
   "name": "python3"
  },
  "language_info": {
   "codemirror_mode": {
    "name": "ipython",
    "version": 3
   },
   "file_extension": ".py",
   "mimetype": "text/x-python",
   "name": "python",
   "nbconvert_exporter": "python",
   "pygments_lexer": "ipython3",
   "version": "3.12.7"
  }
 },
 "nbformat": 4,
 "nbformat_minor": 5
}
