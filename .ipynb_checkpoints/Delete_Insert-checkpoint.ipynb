{
 "cells": [
  {
   "cell_type": "markdown",
   "id": "bffaf7ce-6399-42a4-8f0c-2e7a603742ed",
   "metadata": {},
   "source": [
    "# Insert"
   ]
  },
  {
   "cell_type": "code",
   "execution_count": 2,
   "id": "25fee4a7-2dc7-4b6d-b222-2ef83c8600b4",
   "metadata": {},
   "outputs": [
    {
     "name": "stdout",
     "output_type": "stream",
     "text": [
      "   a  b  c\n",
      "0  1  4  7\n",
      "1  2  5  8\n",
      "2  3  6  9\n"
     ]
    }
   ],
   "source": [
    "import pandas as pd \n",
    "var = pd.DataFrame({\"a\":[1,2,3],\"b\":[4,5,6],\"c\":[7,8,9]})\n",
    "print(var)"
   ]
  },
  {
   "cell_type": "code",
   "execution_count": 8,
   "id": "ead2d79e-a746-4b77-b55d-8e10b9a422c2",
   "metadata": {},
   "outputs": [
    {
     "name": "stdout",
     "output_type": "stream",
     "text": [
      "   a  python  b  c\n",
      "0  1       1  4  7\n",
      "1  2       2  5  8\n",
      "2  3       3  6  9\n"
     ]
    }
   ],
   "source": [
    "var.insert(1,\"python\",var[\"a\"]) # the new data length must be equal\n",
    "print(var)"
   ]
  },
  {
   "cell_type": "code",
   "execution_count": 12,
   "id": "ed8e4170-d14f-406c-9395-8fa3d6f8603d",
   "metadata": {},
   "outputs": [
    {
     "name": "stdout",
     "output_type": "stream",
     "text": [
      "   a  python_1  python  b  c\n",
      "0  1        11       1  4  7\n",
      "1  2        22       2  5  8\n",
      "2  3        33       3  6  9\n"
     ]
    }
   ],
   "source": [
    "var.insert(1,\"python_1\",[11,22,33]) # the new data length must be equal\n",
    "print(var)"
   ]
  },
  {
   "cell_type": "code",
   "execution_count": 16,
   "id": "92c89cfd-e6d6-47fa-932c-a6e9906ed03e",
   "metadata": {},
   "outputs": [
    {
     "name": "stdout",
     "output_type": "stream",
     "text": [
      "   a   py  python_1  python  b  c\n",
      "0  1  1.0        11       1  4  7\n",
      "1  2  NaN        22       2  5  8\n",
      "2  3  NaN        33       3  6  9\n"
     ]
    }
   ],
   "source": [
    "var.insert(1,\"py\",var[\"a\"][:1])\n",
    "print(var)"
   ]
  },
  {
   "cell_type": "markdown",
   "id": "efaf1216-c3ab-44a4-bce4-d10818009906",
   "metadata": {},
   "source": [
    "# Delete"
   ]
  },
  {
   "cell_type": "code",
   "execution_count": 27,
   "id": "d92c7070-29c8-4568-ab3d-44a717b6a9da",
   "metadata": {},
   "outputs": [
    {
     "name": "stdout",
     "output_type": "stream",
     "text": [
      "   a  c\n",
      "0  1  7\n",
      "1  2  8\n",
      "2  3  9\n"
     ]
    }
   ],
   "source": [
    "var = pd.DataFrame({\"a\":[1,2,3],\"b\":[4,5,6],\"c\":[7,8,9]})\n",
    "var.pop(\"b\")\n",
    "print(var)"
   ]
  },
  {
   "cell_type": "code",
   "execution_count": 29,
   "id": "bc4d36ea-2a01-4309-ac46-e80b271a5f80",
   "metadata": {},
   "outputs": [
    {
     "name": "stdout",
     "output_type": "stream",
     "text": [
      "   c\n",
      "0  7\n",
      "1  8\n",
      "2  9\n"
     ]
    }
   ],
   "source": [
    "del var[\"a\"]\n",
    "print(var)"
   ]
  }
 ],
 "metadata": {
  "kernelspec": {
   "display_name": "Python 3 (ipykernel)",
   "language": "python",
   "name": "python3"
  },
  "language_info": {
   "codemirror_mode": {
    "name": "ipython",
    "version": 3
   },
   "file_extension": ".py",
   "mimetype": "text/x-python",
   "name": "python",
   "nbconvert_exporter": "python",
   "pygments_lexer": "ipython3",
   "version": "3.12.7"
  }
 },
 "nbformat": 4,
 "nbformat_minor": 5
}
