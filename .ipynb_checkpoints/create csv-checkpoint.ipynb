{
 "cells": [
  {
   "cell_type": "code",
   "execution_count": 5,
   "id": "0ca852fa-f154-4331-9839-d64fc6c57efa",
   "metadata": {},
   "outputs": [
    {
     "name": "stdout",
     "output_type": "stream",
     "text": [
      "   a  b  c\n",
      "0  1  4  7\n",
      "1  2  5  8\n",
      "2  3  6  9\n"
     ]
    }
   ],
   "source": [
    "import pandas as pd \n",
    "dic = {\"a\":[1,2,3],\"b\":[4,5,6],\"c\":[7,8,9]}\n",
    "d = pd.DataFrame(dic)\n",
    "print(d)\n",
    "d.to_csv(\"CSV File.csv\",index = False)\n",
    "# d.to_csv(\"CSV File.csv1\",index = False,header = [1,2,3])\n",
    "# index = False to remove index cause excel has its own index"
   ]
  },
  {
   "cell_type": "code",
   "execution_count": null,
   "id": "48966dee-6321-4102-9425-0149d9f8e18d",
   "metadata": {},
   "outputs": [],
   "source": []
  }
 ],
 "metadata": {
  "kernelspec": {
   "display_name": "Python 3 (ipykernel)",
   "language": "python",
   "name": "python3"
  },
  "language_info": {
   "codemirror_mode": {
    "name": "ipython",
    "version": 3
   },
   "file_extension": ".py",
   "mimetype": "text/x-python",
   "name": "python",
   "nbconvert_exporter": "python",
   "pygments_lexer": "ipython3",
   "version": "3.12.7"
  }
 },
 "nbformat": 4,
 "nbformat_minor": 5
}
