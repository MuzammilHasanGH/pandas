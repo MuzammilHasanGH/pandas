{
 "cells": [
  {
   "cell_type": "code",
   "execution_count": 51,
   "id": "bc3bf500-7a43-4754-a41a-5ebef26ee943",
   "metadata": {},
   "outputs": [
    {
     "data": {
      "text/html": [
       "<div>\n",
       "<style scoped>\n",
       "    .dataframe tbody tr th:only-of-type {\n",
       "        vertical-align: middle;\n",
       "    }\n",
       "\n",
       "    .dataframe tbody tr th {\n",
       "        vertical-align: top;\n",
       "    }\n",
       "\n",
       "    .dataframe thead th {\n",
       "        text-align: right;\n",
       "    }\n",
       "</style>\n",
       "<table border=\"1\" class=\"dataframe\">\n",
       "  <thead>\n",
       "    <tr style=\"text-align: right;\">\n",
       "      <th></th>\n",
       "      <th>A</th>\n",
       "      <th>B</th>\n",
       "      <th>B1</th>\n",
       "    </tr>\n",
       "  </thead>\n",
       "  <tbody>\n",
       "    <tr>\n",
       "      <th>0</th>\n",
       "      <td>1</td>\n",
       "      <td>11</td>\n",
       "      <td>41</td>\n",
       "    </tr>\n",
       "    <tr>\n",
       "      <th>1</th>\n",
       "      <td>2</td>\n",
       "      <td>12</td>\n",
       "      <td>32</td>\n",
       "    </tr>\n",
       "    <tr>\n",
       "      <th>2</th>\n",
       "      <td>3</td>\n",
       "      <td>13</td>\n",
       "      <td>23</td>\n",
       "    </tr>\n",
       "    <tr>\n",
       "      <th>3</th>\n",
       "      <td>4</td>\n",
       "      <td>14</td>\n",
       "      <td>14</td>\n",
       "    </tr>\n",
       "  </tbody>\n",
       "</table>\n",
       "</div>"
      ],
      "text/plain": [
       "   A   B  B1\n",
       "0  1  11  41\n",
       "1  2  12  32\n",
       "2  3  13  23\n",
       "3  4  14  14"
      ]
     },
     "execution_count": 51,
     "metadata": {},
     "output_type": "execute_result"
    }
   ],
   "source": [
    "import pandas as pd \n",
    "var1 =pd.DataFrame({\"A\":[1,2,3,4],\"B\":[11,12,13,14]})\n",
    "var2 =pd.DataFrame({\"A\":[1,2,3,4],\"B1\":[41,32,23,14]})\n",
    "# var2 =pd.DataFrame({\"A\":[1,2,3,5],\"B\":[41,32,23,14]})\n",
    "# var2 =pd.DataFrame({\"A\":[1,2,3,5],\"C\":[41,32,23,14]}) new DF is gonna be 3 left one uncommon\n",
    "# pd.merge(var2,var1,on=\"A\") both are same\n",
    "pd.merge(var1,var2)\n",
    "# pd.merge(var2,var1,left_index=True,right_index=True)\n",
    "# pd.merge(var2,var1,left_index=True,right_index=True,suffixes=(\"name\",\"id\"))\n",
    "# pd.merge(var1,var2,how=\"outer\",indicator=True)\n",
    "# pd.merge(var1,var2,how=\"outer)\n",
    "# pd.merge(var1,var2,how=\"left\")\n",
    "# pd.merge(var1,var2,how=\"right\")\n",
    "# print(type(var1))"
   ]
  },
  {
   "cell_type": "markdown",
   "id": "385880ed-ee49-4af0-b563-ccf036116b9e",
   "metadata": {},
   "source": [
    "# Concat"
   ]
  },
  {
   "cell_type": "code",
   "execution_count": 31,
   "id": "90808d66-0dbe-4ab9-81c1-429ec8fa1870",
   "metadata": {},
   "outputs": [
    {
     "data": {
      "text/plain": [
       "0     1\n",
       "1     2\n",
       "2     3\n",
       "3     4\n",
       "0    11\n",
       "1    22\n",
       "2    33\n",
       "3    44\n",
       "dtype: int64"
      ]
     },
     "execution_count": 31,
     "metadata": {},
     "output_type": "execute_result"
    }
   ],
   "source": [
    "sr1 = pd.Series([1,2,3,4])\n",
    "sr2 = pd.Series([11,22,33,44])\n",
    "# print(type(sr1))\n",
    "# sr1\n",
    "pd.concat([sr1,sr2])"
   ]
  },
  {
   "cell_type": "code",
   "execution_count": 65,
   "id": "dbce69ee-87f2-481f-86ef-52207cd918b1",
   "metadata": {},
   "outputs": [
    {
     "data": {
      "text/html": [
       "<div>\n",
       "<style scoped>\n",
       "    .dataframe tbody tr th:only-of-type {\n",
       "        vertical-align: middle;\n",
       "    }\n",
       "\n",
       "    .dataframe tbody tr th {\n",
       "        vertical-align: top;\n",
       "    }\n",
       "\n",
       "    .dataframe thead tr th {\n",
       "        text-align: left;\n",
       "    }\n",
       "</style>\n",
       "<table border=\"1\" class=\"dataframe\">\n",
       "  <thead>\n",
       "    <tr>\n",
       "      <th></th>\n",
       "      <th colspan=\"2\" halign=\"left\">d1</th>\n",
       "      <th colspan=\"2\" halign=\"left\">d2</th>\n",
       "    </tr>\n",
       "    <tr>\n",
       "      <th></th>\n",
       "      <th>A</th>\n",
       "      <th>B</th>\n",
       "      <th>A</th>\n",
       "      <th>B</th>\n",
       "    </tr>\n",
       "  </thead>\n",
       "  <tbody>\n",
       "    <tr>\n",
       "      <th>0</th>\n",
       "      <td>1</td>\n",
       "      <td>11</td>\n",
       "      <td>1.0</td>\n",
       "      <td>41.0</td>\n",
       "    </tr>\n",
       "    <tr>\n",
       "      <th>1</th>\n",
       "      <td>2</td>\n",
       "      <td>12</td>\n",
       "      <td>2.0</td>\n",
       "      <td>32.0</td>\n",
       "    </tr>\n",
       "    <tr>\n",
       "      <th>2</th>\n",
       "      <td>3</td>\n",
       "      <td>13</td>\n",
       "      <td>NaN</td>\n",
       "      <td>NaN</td>\n",
       "    </tr>\n",
       "    <tr>\n",
       "      <th>3</th>\n",
       "      <td>4</td>\n",
       "      <td>14</td>\n",
       "      <td>NaN</td>\n",
       "      <td>NaN</td>\n",
       "    </tr>\n",
       "  </tbody>\n",
       "</table>\n",
       "</div>"
      ],
      "text/plain": [
       "  d1       d2      \n",
       "   A   B    A     B\n",
       "0  1  11  1.0  41.0\n",
       "1  2  12  2.0  32.0\n",
       "2  3  13  NaN   NaN\n",
       "3  4  14  NaN   NaN"
      ]
     },
     "execution_count": 65,
     "metadata": {},
     "output_type": "execute_result"
    }
   ],
   "source": [
    "d1 = pd.DataFrame({\"A\":[1,2,3,4],\"B\":[11,12,13,14]})\n",
    "# d2 = pd.DataFrame({\"A\":[1,2,3,4],\"B\":[41,32,23,14]})\n",
    "d2 = pd.DataFrame({\"A\":[1,2],\"B\":[41,32]})\n",
    "# d2 = pd.DataFrame({\"A\":[1,2,3,4],\"C\":[41,32,23,14]})\n",
    "# pd.concat([d1,d2])\n",
    "# pd.concat([d1,d2],axis=1,join=\"inner\")\n",
    "# pd.concat([d1,d2],axis=1,join=\"outer\")\n",
    "pd.concat([d1,d2],axis=1,keys=[\"d1\",\"d2\"])\n",
    "# pd.concat([d1,d2],axis=1)\n",
    "# pd.concat([d1,d2],axis=0)"
   ]
  }
 ],
 "metadata": {
  "kernelspec": {
   "display_name": "Python 3 (ipykernel)",
   "language": "python",
   "name": "python3"
  },
  "language_info": {
   "codemirror_mode": {
    "name": "ipython",
    "version": 3
   },
   "file_extension": ".py",
   "mimetype": "text/x-python",
   "name": "python",
   "nbconvert_exporter": "python",
   "pygments_lexer": "ipython3",
   "version": "3.12.7"
  }
 },
 "nbformat": 4,
 "nbformat_minor": 5
}
