{
 "cells": [
  {
   "cell_type": "code",
   "execution_count": 9,
   "id": "49eb2d54-3465-4810-9ceb-b3fc9a8afb26",
   "metadata": {},
   "outputs": [
    {
     "name": "stdout",
     "output_type": "stream",
     "text": [
      "   0\n",
      "0  1\n",
      "1  2\n",
      "2  3\n",
      "3  4\n",
      "4  5\n",
      "5  6\n",
      "<class 'pandas.core.frame.DataFrame'>\n"
     ]
    }
   ],
   "source": [
    " import pandas as pd\n",
    "l = [1,2,3,4,5,6]\n",
    "var = pd.DataFrame(l)\n",
    "print(var)\n",
    "print(type(var))"
   ]
  },
  {
   "cell_type": "code",
   "execution_count": 45,
   "id": "4c4b1a99-856f-4ef7-9073-9380b5e36ee4",
   "metadata": {},
   "outputs": [
    {
     "name": "stdout",
     "output_type": "stream",
     "text": [
      "2\n",
      "   a  b\n",
      "0  1  4\n",
      "1  2  5\n",
      "2  3  6\n",
      "   a  b\n",
      "0  1  4\n",
      "1  2  5\n",
      "2  3  6\n",
      "   a\n",
      "0  1\n",
      "1  2\n",
      "2  3\n",
      "<class 'pandas.core.frame.DataFrame'>\n"
     ]
    }
   ],
   "source": [
    "d = {\"a\":[1,2,3],'b':[4,5,6]}\n",
    "q = pd.DataFrame(d,columns=[\"a\"])\n",
    "e = pd.DataFrame(d,columns=[\"a\",\"b\"])\n",
    "# r = pd.DataFrame(d,columns=[\"a\",\"b\"],index=['a','b','c',])\n",
    "w = pd.DataFrame(d)\n",
    "# print(r)\n",
    "print(e[\"a\"][1])\n",
    "print(e)\n",
    "print(w)\n",
    "print(q)\n",
    "print(type(q))"
   ]
  },
  {
   "cell_type": "code",
   "execution_count": 55,
   "id": "5a06abd4-aeb5-40af-8423-13c39be7bbb5",
   "metadata": {},
   "outputs": [
    {
     "name": "stdout",
     "output_type": "stream",
     "text": [
      "   0  1  2  3  4\n",
      "0  1  2  3  4  5\n",
      "1  6  7  8  9  0\n"
     ]
    }
   ],
   "source": [
    "list_1 = [[1,2,3,4,5],[6,7,8,9,0]]\n",
    "qq= pd.DataFrame(list_1)\n",
    "print(qq)"
   ]
  },
  {
   "cell_type": "code",
   "execution_count": 59,
   "id": "925815f8-1da5-48cb-98c3-4e73ab36ce09",
   "metadata": {},
   "outputs": [
    {
     "name": "stdout",
     "output_type": "stream",
     "text": [
      "   s  r\n",
      "0  1  5\n",
      "1  2  6\n",
      "2  3  7\n",
      "3  4  8\n",
      "<class 'pandas.core.frame.DataFrame'>\n"
     ]
    }
   ],
   "source": [
    "sr = {\"s\":pd.Series([1,2,3,4]),\"r\":pd.Series([5,6,7,8])}\n",
    "vv = pd.DataFrame(sr)\n",
    "print(vv)\n",
    "print(type(vv))"
   ]
  }
 ],
 "metadata": {
  "kernelspec": {
   "display_name": "Python 3 (ipykernel)",
   "language": "python",
   "name": "python3"
  },
  "language_info": {
   "codemirror_mode": {
    "name": "ipython",
    "version": 3
   },
   "file_extension": ".py",
   "mimetype": "text/x-python",
   "name": "python",
   "nbconvert_exporter": "python",
   "pygments_lexer": "ipython3",
   "version": "3.12.7"
  }
 },
 "nbformat": 4,
 "nbformat_minor": 5
}
